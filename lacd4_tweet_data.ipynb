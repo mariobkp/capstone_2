{
 "cells": [
  {
   "cell_type": "code",
   "execution_count": 1,
   "metadata": {},
   "outputs": [],
   "source": [
    "import numpy as np\n",
    "import pandas as pd\n",
    "\n",
    "import matplotlib.pyplot as plt\n",
    "import seaborn as sns\n",
    "\n",
    "plt.style.use('seaborn')"
   ]
  },
  {
   "cell_type": "code",
   "execution_count": 2,
   "metadata": {},
   "outputs": [],
   "source": [
    "nithya = pd.read_csv('data/nithyas_tweets.csv')"
   ]
  },
  {
   "cell_type": "code",
   "execution_count": 3,
   "metadata": {},
   "outputs": [
    {
     "data": {
      "text/html": [
       "<div>\n",
       "<style scoped>\n",
       "    .dataframe tbody tr th:only-of-type {\n",
       "        vertical-align: middle;\n",
       "    }\n",
       "\n",
       "    .dataframe tbody tr th {\n",
       "        vertical-align: top;\n",
       "    }\n",
       "\n",
       "    .dataframe thead th {\n",
       "        text-align: right;\n",
       "    }\n",
       "</style>\n",
       "<table border=\"1\" class=\"dataframe\">\n",
       "  <thead>\n",
       "    <tr style=\"text-align: right;\">\n",
       "      <th></th>\n",
       "      <th>UserName</th>\n",
       "      <th>Handle</th>\n",
       "      <th>Timestamp</th>\n",
       "      <th>Text</th>\n",
       "      <th>Emojis</th>\n",
       "      <th>Comments</th>\n",
       "      <th>Likes</th>\n",
       "      <th>Retweets</th>\n",
       "    </tr>\n",
       "  </thead>\n",
       "  <tbody>\n",
       "    <tr>\n",
       "      <th>0</th>\n",
       "      <td>Nithya Raman</td>\n",
       "      <td>@nithyavraman</td>\n",
       "      <td>2020-11-04T01:22:32.000Z</td>\n",
       "      <td>This campaign was never about any one person. ...</td>\n",
       "      <td>NaN</td>\n",
       "      <td>57.0</td>\n",
       "      <td>261</td>\n",
       "      <td>2K</td>\n",
       "    </tr>\n",
       "    <tr>\n",
       "      <th>1</th>\n",
       "      <td>Nithya Raman</td>\n",
       "      <td>@nithyavraman</td>\n",
       "      <td>2020-11-17T22:32:56.000Z</td>\n",
       "      <td>Very excited to be joining \\n@PplsAction\\n and...</td>\n",
       "      <td>NaN</td>\n",
       "      <td>3.0</td>\n",
       "      <td>26</td>\n",
       "      <td>190</td>\n",
       "    </tr>\n",
       "    <tr>\n",
       "      <th>2</th>\n",
       "      <td>Nithya Raman</td>\n",
       "      <td>@nithyavraman</td>\n",
       "      <td>2020-11-07T01:58:36.000Z</td>\n",
       "      <td>To the residents of CD4, our brilliant, kind, ...</td>\n",
       "      <td>NaN</td>\n",
       "      <td>184.0</td>\n",
       "      <td>1.5K</td>\n",
       "      <td>13K</td>\n",
       "    </tr>\n",
       "    <tr>\n",
       "      <th>3</th>\n",
       "      <td>Nithya Raman</td>\n",
       "      <td>@nithyavraman</td>\n",
       "      <td>2020-11-07T02:01:25.000Z</td>\n",
       "      <td>Replying to \\n@nithyavramanTo the people of Co...</td>\n",
       "      <td>NaN</td>\n",
       "      <td>5.0</td>\n",
       "      <td>15</td>\n",
       "      <td>779</td>\n",
       "    </tr>\n",
       "    <tr>\n",
       "      <th>4</th>\n",
       "      <td>Nithya Raman</td>\n",
       "      <td>@nithyavraman</td>\n",
       "      <td>2020-11-07T02:02:06.000Z</td>\n",
       "      <td>I have countless people to thank individually....</td>\n",
       "      <td>NaN</td>\n",
       "      <td>25.0</td>\n",
       "      <td>25</td>\n",
       "      <td>961</td>\n",
       "    </tr>\n",
       "  </tbody>\n",
       "</table>\n",
       "</div>"
      ],
      "text/plain": [
       "       UserName         Handle                 Timestamp  \\\n",
       "0  Nithya Raman  @nithyavraman  2020-11-04T01:22:32.000Z   \n",
       "1  Nithya Raman  @nithyavraman  2020-11-17T22:32:56.000Z   \n",
       "2  Nithya Raman  @nithyavraman  2020-11-07T01:58:36.000Z   \n",
       "3  Nithya Raman  @nithyavraman  2020-11-07T02:01:25.000Z   \n",
       "4  Nithya Raman  @nithyavraman  2020-11-07T02:02:06.000Z   \n",
       "\n",
       "                                                Text Emojis  Comments Likes  \\\n",
       "0  This campaign was never about any one person. ...    NaN      57.0   261   \n",
       "1  Very excited to be joining \\n@PplsAction\\n and...    NaN       3.0    26   \n",
       "2  To the residents of CD4, our brilliant, kind, ...    NaN     184.0  1.5K   \n",
       "3  Replying to \\n@nithyavramanTo the people of Co...    NaN       5.0    15   \n",
       "4  I have countless people to thank individually....    NaN      25.0    25   \n",
       "\n",
       "  Retweets  \n",
       "0       2K  \n",
       "1      190  \n",
       "2      13K  \n",
       "3      779  \n",
       "4      961  "
      ]
     },
     "execution_count": 3,
     "metadata": {},
     "output_type": "execute_result"
    }
   ],
   "source": [
    "nithya.head()"
   ]
  },
  {
   "cell_type": "code",
   "execution_count": 4,
   "metadata": {},
   "outputs": [
    {
     "name": "stdout",
     "output_type": "stream",
     "text": [
      "<class 'pandas.core.frame.DataFrame'>\n",
      "RangeIndex: 543 entries, 0 to 542\n",
      "Data columns (total 8 columns):\n",
      " #   Column     Non-Null Count  Dtype  \n",
      "---  ------     --------------  -----  \n",
      " 0   UserName   543 non-null    object \n",
      " 1   Handle     543 non-null    object \n",
      " 2   Timestamp  543 non-null    object \n",
      " 3   Text       543 non-null    object \n",
      " 4   Emojis     20 non-null     object \n",
      " 5   Comments   498 non-null    float64\n",
      " 6   Likes      540 non-null    object \n",
      " 7   Retweets   543 non-null    object \n",
      "dtypes: float64(1), object(7)\n",
      "memory usage: 34.1+ KB\n"
     ]
    }
   ],
   "source": [
    "nithya.info()"
   ]
  },
  {
   "cell_type": "code",
   "execution_count": 58,
   "metadata": {},
   "outputs": [
    {
     "data": {
      "text/html": [
       "<div>\n",
       "<style scoped>\n",
       "    .dataframe tbody tr th:only-of-type {\n",
       "        vertical-align: middle;\n",
       "    }\n",
       "\n",
       "    .dataframe tbody tr th {\n",
       "        vertical-align: top;\n",
       "    }\n",
       "\n",
       "    .dataframe thead th {\n",
       "        text-align: right;\n",
       "    }\n",
       "</style>\n",
       "<table border=\"1\" class=\"dataframe\">\n",
       "  <thead>\n",
       "    <tr style=\"text-align: right;\">\n",
       "      <th></th>\n",
       "      <th>UserName</th>\n",
       "      <th>Handle</th>\n",
       "      <th>Timestamp</th>\n",
       "      <th>Text</th>\n",
       "      <th>Emojis</th>\n",
       "      <th>Comments</th>\n",
       "      <th>Likes</th>\n",
       "      <th>Retweets</th>\n",
       "    </tr>\n",
       "  </thead>\n",
       "  <tbody>\n",
       "    <tr>\n",
       "      <th>62</th>\n",
       "      <td>Nithya Raman</td>\n",
       "      <td>@nithyavraman</td>\n",
       "      <td>2020-10-13T21:04:10.000Z</td>\n",
       "      <td>I'm just flattered that Nancy Pelosi thinks ou...</td>\n",
       "      <td></td>\n",
       "      <td>14.0</td>\n",
       "      <td>124</td>\n",
       "      <td>1K</td>\n",
       "    </tr>\n",
       "    <tr>\n",
       "      <th>133</th>\n",
       "      <td>Nithya Raman</td>\n",
       "      <td>@nithyavraman</td>\n",
       "      <td>2020-08-31T19:23:55.000Z</td>\n",
       "      <td>I am SO excited for this. Please join us!Ken T...</td>\n",
       "      <td></td>\n",
       "      <td>5.0</td>\n",
       "      <td>163</td>\n",
       "      <td>1K</td>\n",
       "    </tr>\n",
       "    <tr>\n",
       "      <th>195</th>\n",
       "      <td>Nithya Raman</td>\n",
       "      <td>@nithyavraman</td>\n",
       "      <td>2020-08-12T23:34:28.000Z</td>\n",
       "      <td>Meanwhile, the City Council of Los Angeles (th...</td>\n",
       "      <td></td>\n",
       "      <td>10.0</td>\n",
       "      <td>336</td>\n",
       "      <td>1K</td>\n",
       "    </tr>\n",
       "    <tr>\n",
       "      <th>383</th>\n",
       "      <td>Nithya Raman</td>\n",
       "      <td>@nithyavraman</td>\n",
       "      <td>2020-04-11T19:51:36.000Z</td>\n",
       "      <td>One dynamic that has always existed, but we're...</td>\n",
       "      <td></td>\n",
       "      <td>5.0</td>\n",
       "      <td>322</td>\n",
       "      <td>1K</td>\n",
       "    </tr>\n",
       "    <tr>\n",
       "      <th>430</th>\n",
       "      <td>Nithya Raman</td>\n",
       "      <td>@nithyavraman</td>\n",
       "      <td>2020-03-22T17:08:46.000Z</td>\n",
       "      <td>As we exit our second weekend of self-quaranti...</td>\n",
       "      <td></td>\n",
       "      <td>6.0</td>\n",
       "      <td>218</td>\n",
       "      <td>1K</td>\n",
       "    </tr>\n",
       "    <tr>\n",
       "      <th>529</th>\n",
       "      <td>Nithya Raman</td>\n",
       "      <td>@nithyavraman</td>\n",
       "      <td>2020-01-16T20:15:11.000Z</td>\n",
       "      <td>In Oakland, a group of unhoused mothers settle...</td>\n",
       "      <td></td>\n",
       "      <td>14.0</td>\n",
       "      <td>400</td>\n",
       "      <td>1K</td>\n",
       "    </tr>\n",
       "  </tbody>\n",
       "</table>\n",
       "</div>"
      ],
      "text/plain": [
       "         UserName         Handle                 Timestamp  \\\n",
       "62   Nithya Raman  @nithyavraman  2020-10-13T21:04:10.000Z   \n",
       "133  Nithya Raman  @nithyavraman  2020-08-31T19:23:55.000Z   \n",
       "195  Nithya Raman  @nithyavraman  2020-08-12T23:34:28.000Z   \n",
       "383  Nithya Raman  @nithyavraman  2020-04-11T19:51:36.000Z   \n",
       "430  Nithya Raman  @nithyavraman  2020-03-22T17:08:46.000Z   \n",
       "529  Nithya Raman  @nithyavraman  2020-01-16T20:15:11.000Z   \n",
       "\n",
       "                                                  Text Emojis  Comments Likes  \\\n",
       "62   I'm just flattered that Nancy Pelosi thinks ou...             14.0   124   \n",
       "133  I am SO excited for this. Please join us!Ken T...              5.0   163   \n",
       "195  Meanwhile, the City Council of Los Angeles (th...             10.0   336   \n",
       "383  One dynamic that has always existed, but we're...              5.0   322   \n",
       "430  As we exit our second weekend of self-quaranti...              6.0   218   \n",
       "529  In Oakland, a group of unhoused mothers settle...             14.0   400   \n",
       "\n",
       "    Retweets  \n",
       "62        1K  \n",
       "133       1K  \n",
       "195       1K  \n",
       "383       1K  \n",
       "430       1K  \n",
       "529       1K  "
      ]
     },
     "execution_count": 58,
     "metadata": {},
     "output_type": "execute_result"
    }
   ],
   "source": [
    "nithya.loc[nithya.Likes.isin(['1.5K', '1.3K', '1.1K', '1K', '2.2K', '1.6K', '5.7K', '1.2K', '3K']) , ['Retweets']] = [13000, 5700, 4100, 3700, 5000, 3700, 2700, 10000, 10900, 22100, 3900]\n",
    "\n",
    "nithya.loc[nithya.Likes.isin(['1.5K', '1.3K', '1.1K', '1K', '2.2K', '1.6K', '5.7K', '1.2K', '3K']) , ['Likes']] = [1500, 1300, 1100, 1000, 2200, 1600, 1500, 5700, 1200, 3000, 1300]\n"
   ]
  },
  {
   "cell_type": "code",
   "execution_count": 53,
   "metadata": {},
   "outputs": [],
   "source": [
    "nithya.loc[nithya.Retweets.isin(['1K', '2K', '1.1K', '1.2K', '3.4K', '2.9K', '2.5K',\n",
    "                                 '6.2K', '1.8K', '1.9K', '1.4K', '1.3K', '2.4K', '3.1K', \n",
    "                                 '1.6K', '1.5K', '3.5K', '3.8K', '2.3K', '3.3K']) , ['Retweets']] = [2000, 1100, 1200, 3400, 2900, 2500, 6200, 1200, 1800, 1900, 1400, 1300, \n",
    "                                                                                                    2400, 3100, 1300, 2500, 1200, 1800, 1600, 1100, 1300, \n",
    "                                                                                                      1500, 3500, 1200, 3800, 1200, 2400, 2300, 3300]"
   ]
  },
  {
   "cell_type": "code",
   "execution_count": 59,
   "metadata": {},
   "outputs": [],
   "source": [
    "nithya.loc[nithya.Retweets.isin(['1K']) , ['Retweets']] = [1000, 1000, 1000, 1000, 1000, 1000]"
   ]
  },
  {
   "cell_type": "code",
   "execution_count": 18,
   "metadata": {},
   "outputs": [
    {
     "data": {
      "text/html": [
       "<div>\n",
       "<style scoped>\n",
       "    .dataframe tbody tr th:only-of-type {\n",
       "        vertical-align: middle;\n",
       "    }\n",
       "\n",
       "    .dataframe tbody tr th {\n",
       "        vertical-align: top;\n",
       "    }\n",
       "\n",
       "    .dataframe thead th {\n",
       "        text-align: right;\n",
       "    }\n",
       "</style>\n",
       "<table border=\"1\" class=\"dataframe\">\n",
       "  <thead>\n",
       "    <tr style=\"text-align: right;\">\n",
       "      <th></th>\n",
       "      <th>UserName</th>\n",
       "      <th>Handle</th>\n",
       "      <th>Timestamp</th>\n",
       "      <th>Text</th>\n",
       "      <th>Emojis</th>\n",
       "      <th>Comments</th>\n",
       "      <th>Likes</th>\n",
       "      <th>Retweets</th>\n",
       "    </tr>\n",
       "  </thead>\n",
       "  <tbody>\n",
       "    <tr>\n",
       "      <th>166</th>\n",
       "      <td>Rekha Shankar</td>\n",
       "      <td>@rekhalshankar</td>\n",
       "      <td>2020-08-21T03:19:29.000Z</td>\n",
       "      <td>we are SO CLOSE to our goal of 3k. can YOU hel...</td>\n",
       "      <td></td>\n",
       "      <td>0.0</td>\n",
       "      <td>4</td>\n",
       "      <td>9</td>\n",
       "    </tr>\n",
       "    <tr>\n",
       "      <th>209</th>\n",
       "      <td>Ground Game LA</td>\n",
       "      <td>@GroundGameLA</td>\n",
       "      <td>2020-08-05T01:58:56.000Z</td>\n",
       "      <td>Ground Game is LIVE with \\n@nithyavraman\\n, \\n...</td>\n",
       "      <td>🥾 👞 👢 👞 👢</td>\n",
       "      <td>1.0</td>\n",
       "      <td>11</td>\n",
       "      <td>15</td>\n",
       "    </tr>\n",
       "    <tr>\n",
       "      <th>210</th>\n",
       "      <td>Ground Game LA</td>\n",
       "      <td>@GroundGameLA</td>\n",
       "      <td>2020-08-05T00:22:50.000Z</td>\n",
       "      <td>Join us tonight at 7pm!\\nWe’re hosting a round...</td>\n",
       "      <td>🥾</td>\n",
       "      <td>1.0</td>\n",
       "      <td>22</td>\n",
       "      <td>32</td>\n",
       "    </tr>\n",
       "    <tr>\n",
       "      <th>286</th>\n",
       "      <td>The Forge: Organizing Strategy and Practice</td>\n",
       "      <td>@ForgeOrganizing</td>\n",
       "      <td>2020-07-01T16:51:23.000Z</td>\n",
       "      <td>We talked to L.A. City Council candidate \\n@ni...</td>\n",
       "      <td></td>\n",
       "      <td>1.0</td>\n",
       "      <td>25</td>\n",
       "      <td>71</td>\n",
       "    </tr>\n",
       "    <tr>\n",
       "      <th>299</th>\n",
       "      <td>Libby Denkmann</td>\n",
       "      <td>@libdenk</td>\n",
       "      <td>2020-06-16T17:26:08.000Z</td>\n",
       "      <td>Wesson &amp; \\n@CD6Nury\\n plan to intro \"a systema...</td>\n",
       "      <td></td>\n",
       "      <td>2.0</td>\n",
       "      <td>32</td>\n",
       "      <td>74</td>\n",
       "    </tr>\n",
       "    <tr>\n",
       "      <th>320</th>\n",
       "      <td>CHIRLA</td>\n",
       "      <td>@CHIRLA</td>\n",
       "      <td>2020-06-04T22:00:47.000Z</td>\n",
       "      <td>The \\n@MayorOfLA\\n announced a $100-$150M cut ...</td>\n",
       "      <td></td>\n",
       "      <td>1.0</td>\n",
       "      <td>22</td>\n",
       "      <td>81</td>\n",
       "    </tr>\n",
       "    <tr>\n",
       "      <th>328</th>\n",
       "      <td>fund the us postal service - defund the police</td>\n",
       "      <td>@OsopePatrisse</td>\n",
       "      <td>2020-05-26T22:05:06.000Z</td>\n",
       "      <td>Do you know what it feels like to be hunted? T...</td>\n",
       "      <td></td>\n",
       "      <td>14.0</td>\n",
       "      <td>362</td>\n",
       "      <td>915</td>\n",
       "    </tr>\n",
       "    <tr>\n",
       "      <th>436</th>\n",
       "      <td>ACT-LA</td>\n",
       "      <td>@All4Transit</td>\n",
       "      <td>2020-03-16T18:10:00.000Z</td>\n",
       "      <td>ACTION ALERT: LA City Council will be voting t...</td>\n",
       "      <td></td>\n",
       "      <td>10.0</td>\n",
       "      <td>330</td>\n",
       "      <td>493</td>\n",
       "    </tr>\n",
       "  </tbody>\n",
       "</table>\n",
       "</div>"
      ],
      "text/plain": [
       "                                           UserName            Handle  \\\n",
       "166                                   Rekha Shankar    @rekhalshankar   \n",
       "209                                  Ground Game LA     @GroundGameLA   \n",
       "210                                  Ground Game LA     @GroundGameLA   \n",
       "286     The Forge: Organizing Strategy and Practice  @ForgeOrganizing   \n",
       "299                                  Libby Denkmann          @libdenk   \n",
       "320                                          CHIRLA           @CHIRLA   \n",
       "328  fund the us postal service - defund the police    @OsopePatrisse   \n",
       "436                                          ACT-LA      @All4Transit   \n",
       "\n",
       "                    Timestamp  \\\n",
       "166  2020-08-21T03:19:29.000Z   \n",
       "209  2020-08-05T01:58:56.000Z   \n",
       "210  2020-08-05T00:22:50.000Z   \n",
       "286  2020-07-01T16:51:23.000Z   \n",
       "299  2020-06-16T17:26:08.000Z   \n",
       "320  2020-06-04T22:00:47.000Z   \n",
       "328  2020-05-26T22:05:06.000Z   \n",
       "436  2020-03-16T18:10:00.000Z   \n",
       "\n",
       "                                                  Text     Emojis  Comments  \\\n",
       "166  we are SO CLOSE to our goal of 3k. can YOU hel...                  0.0   \n",
       "209  Ground Game is LIVE with \\n@nithyavraman\\n, \\n...  🥾 👞 👢 👞 👢       1.0   \n",
       "210  Join us tonight at 7pm!\\nWe’re hosting a round...          🥾       1.0   \n",
       "286  We talked to L.A. City Council candidate \\n@ni...                  1.0   \n",
       "299  Wesson & \\n@CD6Nury\\n plan to intro \"a systema...                  2.0   \n",
       "320  The \\n@MayorOfLA\\n announced a $100-$150M cut ...                  1.0   \n",
       "328  Do you know what it feels like to be hunted? T...                 14.0   \n",
       "436  ACTION ALERT: LA City Council will be voting t...                 10.0   \n",
       "\n",
       "    Likes Retweets  \n",
       "166     4        9  \n",
       "209    11       15  \n",
       "210    22       32  \n",
       "286    25       71  \n",
       "299    32       74  \n",
       "320    22       81  \n",
       "328   362      915  \n",
       "436   330      493  "
      ]
     },
     "execution_count": 18,
     "metadata": {},
     "output_type": "execute_result"
    }
   ],
   "source": [
    "nithya[nithya.Handle!='@nithyavraman'] "
   ]
  },
  {
   "cell_type": "code",
   "execution_count": 13,
   "metadata": {},
   "outputs": [],
   "source": [
    "nithya.Emojis.fillna('', inplace=True)"
   ]
  },
  {
   "cell_type": "code",
   "execution_count": 16,
   "metadata": {},
   "outputs": [],
   "source": [
    "nithya['Comments'].fillna(0, inplace=True)\n",
    "nithya['Likes'].fillna(0, inplace=True)"
   ]
  },
  {
   "cell_type": "code",
   "execution_count": 17,
   "metadata": {},
   "outputs": [
    {
     "name": "stdout",
     "output_type": "stream",
     "text": [
      "<class 'pandas.core.frame.DataFrame'>\n",
      "RangeIndex: 543 entries, 0 to 542\n",
      "Data columns (total 8 columns):\n",
      " #   Column     Non-Null Count  Dtype  \n",
      "---  ------     --------------  -----  \n",
      " 0   UserName   543 non-null    object \n",
      " 1   Handle     543 non-null    object \n",
      " 2   Timestamp  543 non-null    object \n",
      " 3   Text       543 non-null    object \n",
      " 4   Emojis     543 non-null    object \n",
      " 5   Comments   543 non-null    float64\n",
      " 6   Likes      543 non-null    object \n",
      " 7   Retweets   543 non-null    object \n",
      "dtypes: float64(1), object(7)\n",
      "memory usage: 34.1+ KB\n"
     ]
    }
   ],
   "source": [
    "nithya.info()"
   ]
  },
  {
   "cell_type": "code",
   "execution_count": 60,
   "metadata": {},
   "outputs": [],
   "source": [
    "nithya = nithya.astype({'Timestamp': 'datetime64', 'Likes': 'int32', 'Retweets': 'int32'})"
   ]
  },
  {
   "cell_type": "code",
   "execution_count": 61,
   "metadata": {},
   "outputs": [
    {
     "name": "stdout",
     "output_type": "stream",
     "text": [
      "<class 'pandas.core.frame.DataFrame'>\n",
      "RangeIndex: 543 entries, 0 to 542\n",
      "Data columns (total 8 columns):\n",
      " #   Column     Non-Null Count  Dtype         \n",
      "---  ------     --------------  -----         \n",
      " 0   UserName   543 non-null    object        \n",
      " 1   Handle     543 non-null    object        \n",
      " 2   Timestamp  543 non-null    datetime64[ns]\n",
      " 3   Text       543 non-null    object        \n",
      " 4   Emojis     543 non-null    object        \n",
      " 5   Comments   543 non-null    float64       \n",
      " 6   Likes      543 non-null    int32         \n",
      " 7   Retweets   543 non-null    int32         \n",
      "dtypes: datetime64[ns](1), float64(1), int32(2), object(4)\n",
      "memory usage: 29.8+ KB\n"
     ]
    }
   ],
   "source": [
    "nithya.info()"
   ]
  },
  {
   "cell_type": "code",
   "execution_count": 8,
   "metadata": {},
   "outputs": [],
   "source": [
    "david = pd.read_csv('data/davids_tweets.csv')"
   ]
  },
  {
   "cell_type": "code",
   "execution_count": 77,
   "metadata": {},
   "outputs": [
    {
     "data": {
      "text/plain": [
       "319    58.1K\n",
       "Name: Retweets, dtype: object"
      ]
     },
     "execution_count": 77,
     "metadata": {},
     "output_type": "execute_result"
    }
   ],
   "source": [
    "david.Comments.loc[david.Comments.isin(['28K' , '70.7K','12.6K', '2.2K', '6.2K','43.6K','3.9K','1.6K'])] = [2800, 70700, 12600, 2200, 6200, 43600, 3900, 1600]"
   ]
  },
  {
   "cell_type": "code",
   "execution_count": 68,
   "metadata": {},
   "outputs": [],
   "source": [
    "david.Likes.loc[david.Likes.isin(['29.5K', '7.7K', '1.3K', '2.4K', '128.5K','24.2K',\n",
    "       '46.3K', '22.2K', '44.4K', '47.2K', '3.3K', '2K','16.6K'])] = [29500, 7700, 1300, 2400, 128500, 24200, 46300, 22200, 44400, 47200, 3300, 2000, 16600]"
   ]
  },
  {
   "cell_type": "code",
   "execution_count": 71,
   "metadata": {},
   "outputs": [],
   "source": [
    "david.Retweets.loc[david.Retweets.isin(['52.6K','5.2K','1.2K', '6K', '17.9K', '656.2K','113.4K', '217.3K',\n",
    "       '150.4K', '3K', '2.2K', '219K', '12.4K',\n",
    "       '1.3K','6.3K','26.9K'])] = [52600, 5200, 1200, 6000, 17900, 656200, 113400, 217300, 150400, 3000, 2200, 219000, 12400, 1300, 6300, 26900]"
   ]
  },
  {
   "cell_type": "code",
   "execution_count": 78,
   "metadata": {},
   "outputs": [],
   "source": [
    "david.Retweets.loc[david.Retweets.isin(['58.1K'])] = [58100]"
   ]
  },
  {
   "cell_type": "code",
   "execution_count": 81,
   "metadata": {},
   "outputs": [],
   "source": [
    "david.Retweets.loc[david.Retweets.isin(['2.9K'])] = [2900, 2900]"
   ]
  },
  {
   "cell_type": "code",
   "execution_count": 72,
   "metadata": {},
   "outputs": [],
   "source": [
    "david['Comments'].fillna(0, inplace=True)\n",
    "david['Likes'].fillna(0, inplace=True)\n",
    "david['Retweets'].fillna(0, inplace=True)\n",
    "david.Emojis.fillna('', inplace=True)"
   ]
  },
  {
   "cell_type": "code",
   "execution_count": 84,
   "metadata": {},
   "outputs": [],
   "source": [
    "david = david.astype({'Timestamp': 'datetime64', 'Likes': 'int32', 'Retweets': 'int32', 'Comments': 'float64'})"
   ]
  },
  {
   "cell_type": "code",
   "execution_count": 85,
   "metadata": {},
   "outputs": [
    {
     "name": "stdout",
     "output_type": "stream",
     "text": [
      "<class 'pandas.core.frame.DataFrame'>\n",
      "RangeIndex: 573 entries, 0 to 572\n",
      "Data columns (total 8 columns):\n",
      " #   Column     Non-Null Count  Dtype         \n",
      "---  ------     --------------  -----         \n",
      " 0   UserName   573 non-null    object        \n",
      " 1   Handle     573 non-null    object        \n",
      " 2   Timestamp  573 non-null    datetime64[ns]\n",
      " 3   Text       572 non-null    object        \n",
      " 4   Emojis     573 non-null    object        \n",
      " 5   Comments   573 non-null    float64       \n",
      " 6   Likes      573 non-null    int32         \n",
      " 7   Retweets   573 non-null    int32         \n",
      "dtypes: datetime64[ns](1), float64(1), int32(2), object(4)\n",
      "memory usage: 31.5+ KB\n"
     ]
    }
   ],
   "source": [
    "david.info()"
   ]
  },
  {
   "cell_type": "code",
   "execution_count": 87,
   "metadata": {},
   "outputs": [
    {
     "data": {
      "image/png": "[encoded data removed]",
      "text/plain": [
       "<Figure size 576x396 with 1 Axes>"
      ]
     },
     "metadata": {},
     "output_type": "display_data"
    }
   ],
   "source": [
    "plt.plot(nithya.Timestamp, nithya.Comments)\n",
    "plt.show;"
   ]
  },
  {
   "cell_type": "code",
   "execution_count": 88,
   "metadata": {},
   "outputs": [
    {
     "data": {
      "image/png": "[encoded data removed]",
      "text/plain": [
       "<Figure size 576x396 with 1 Axes>"
      ]
     },
     "metadata": {},
     "output_type": "display_data"
    }
   ],
   "source": [
    "plt.hist(nithya.Timestamp)\n",
    "plt.show;"
   ]
  },
  {
   "cell_type": "code",
   "execution_count": 89,
   "metadata": {},
   "outputs": [
    {
     "data": {
      "image/png": "[encoded data removed]",
      "text/plain": [
       "<Figure size 576x396 with 1 Axes>"
      ]
     },
     "metadata": {},
     "output_type": "display_data"
    }
   ],
   "source": [
    "plt.plot(david.Timestamp, david.Comments)\n",
    "plt.show;"
   ]
  },
  {
   "cell_type": "code",
   "execution_count": 90,
   "metadata": {},
   "outputs": [
    {
     "data": {
      "image/png": "[encoded data removed]",
      "text/plain": [
       "<Figure size 576x396 with 1 Axes>"
      ]
     },
     "metadata": {},
     "output_type": "display_data"
    }
   ],
   "source": [
    "plt.hist(david.Timestamp)\n",
    "plt.show;"
   ]
  },
  {
   "cell_type": "code",
   "execution_count": null,
   "metadata": {},
   "outputs": [],
   "source": []
  }
 ],
 "metadata": {
  "kernelspec": {
   "display_name": "Python 3",
   "language": "python",
   "name": "python3"
  },
  "language_info": {
   "codemirror_mode": {
    "name": "ipython",
    "version": 3
   },
   "file_extension": ".py",
   "mimetype": "text/x-python",
   "name": "python",
   "nbconvert_exporter": "python",
   "pygments_lexer": "ipython3",
   "version": "3.7.7"
  }
 },
 "nbformat": 4,
 "nbformat_minor": 4
}
